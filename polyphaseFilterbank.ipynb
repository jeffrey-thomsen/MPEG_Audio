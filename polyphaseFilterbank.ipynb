{
 "cells": [
  {
   "cell_type": "markdown",
   "metadata": {},
   "source": [
    "# Implementation of the Polyphase filterbank"
   ]
  },
  {
   "cell_type": "code",
   "execution_count": 18,
   "metadata": {},
   "outputs": [],
   "source": [
    "import numpy as np\n",
    "\n",
    "class analysisBuffer:\n",
    "    def __init__(self,bufferVal=np.zeros(512)):\n",
    "        assert (len(bufferVal)==512),\"Input not length 512!\"\n",
    "        self.bufferVal = bufferVal\n",
    "        \n",
    "    def pushBlock(self,sampleBlock):\n",
    "        assert (len(sampleBlock)==32),\"Sample block length not 32!\"\n",
    "        self.bufferVal[32:] = self.bufferVal[:-32]\n",
    "        self.bufferVal[0:32] = sampleBlock\n",
    "\n",
    "def polyphaseFilterbank(x):\n",
    "    \n",
    "    C = np.load('data/mpeg_analysis_window.npy') # analysis window defined by MPEG\n",
    "    \n",
    "    M = calcAnalysisMatrixCoeff()\n",
    "    \n",
    "    subbandSamples = np.zeros(32)\n",
    "    for n in range(32):\n",
    "        for k in range(63):\n",
    "            for m in range(7):\n",
    "                subbandSamples[n] = subbandSamples[n] + (M[n,k] * (C[k+64*m]*x.bufferVal[k+64*m]))\n",
    "        \n",
    "    return subbandSamples\n",
    "    \n",
    "def calcAnalysisMatrixCoeff():\n",
    "    M = np.zeros([32,64])\n",
    "    for n in range(32):\n",
    "        for k in range(64):\n",
    "            M[n,k] = np.cos((2*n+1)*(k-16)*np.pi/64)\n",
    "            \n",
    "    return M\n",
    "     "
   ]
  },
  {
   "cell_type": "markdown",
   "metadata": {},
   "source": [
    "Simple test"
   ]
  },
  {
   "cell_type": "code",
   "execution_count": 19,
   "metadata": {},
   "outputs": [
    {
     "name": "stdout",
     "output_type": "stream",
     "text": [
      "[ 0.43198655  0.10213128 -0.01506771  0.00115202  0.02467189 -0.03197714\n",
      "  0.08208882 -0.01238919 -0.04730537 -0.01520704  0.0573132   0.02986398\n",
      " -0.00757987 -0.0156165  -0.04741508 -0.02848638 -0.01739938 -0.04036587\n",
      " -0.00354687 -0.02200082  0.02172196 -0.03611722 -0.05960432 -0.05883446\n",
      "  0.10991358  0.05770042 -0.10469166 -0.00429397 -0.00424095 -0.00581947\n",
      " -0.00534673  0.11426906]\n"
     ]
    }
   ],
   "source": [
    "# test pushBlock in Buffer and Filterbank just with random values\n",
    "myBuffer = analysisBuffer(np.random.rand(512))\n",
    "myBuffer.pushBlock(np.random.rand(32))\n",
    "\n",
    "myst = polyphaseFilterbank(myBuffer)\n",
    "print(myst)"
   ]
  },
  {
   "cell_type": "code",
   "execution_count": 20,
   "metadata": {},
   "outputs": [
    {
     "name": "stdout",
     "output_type": "stream",
     "text": [
      "[ 1.21202680e-02 -1.44946970e-02 -9.28328898e-03  1.63199509e-02\n",
      "  6.09067813e-03 -1.75211143e-02 -2.66505598e-03  1.80719505e-02\n",
      " -8.64472328e-04 -1.79703665e-02  4.35845671e-03  1.74879278e-02\n",
      "  9.78679207e-01 -1.50207993e-02  1.05408444e-02  1.31735898e-02\n",
      " -1.32306672e-02 -1.06348660e-02  1.53482354e-02  7.64692128e-03\n",
      " -1.68664303e-02 -4.34626024e-03  1.77265416e-02  8.73449724e-04\n",
      " -1.79064471e-02  2.63321283e-03  1.73947968e-02 -6.04335340e-03\n",
      " -1.62124859e-02  9.22353398e-03  1.44085065e-02 -1.20454323e-02]\n"
     ]
    }
   ],
   "source": [
    "# test with a sine tone at 10kHz, assuming roughly 48kHz sampling rate\n",
    "# --> maximum value in filterbank output seen in 13th entry\n",
    "\n",
    "myBuffer = analysisBuffer(np.sin(2*np.pi*10000*np.linspace(0,0.01,512)))\n",
    "myst = polyphaseFilterbank(myBuffer)\n",
    "print(myst)"
   ]
  },
  {
   "cell_type": "markdown",
   "metadata": {},
   "source": [
    "# Implementation of Calculation of scale factors"
   ]
  },
  {
   "cell_type": "code",
   "execution_count": null,
   "metadata": {},
   "outputs": [],
   "source": []
  }
 ],
 "metadata": {
  "kernelspec": {
   "display_name": "Python 3",
   "language": "python",
   "name": "python3"
  },
  "language_info": {
   "codemirror_mode": {
    "name": "ipython",
    "version": 3
   },
   "file_extension": ".py",
   "mimetype": "text/x-python",
   "name": "python",
   "nbconvert_exporter": "python",
   "pygments_lexer": "ipython3",
   "version": "3.6.5"
  }
 },
 "nbformat": 4,
 "nbformat_minor": 4
}
