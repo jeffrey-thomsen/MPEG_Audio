{
 "cells": [
  {
   "cell_type": "markdown",
   "metadata": {},
   "source": [
    "# Implementation of the Polyphase filterbank"
   ]
  },
  {
   "cell_type": "code",
   "execution_count": 108,
   "metadata": {},
   "outputs": [],
   "source": [
    "import numpy as np\n",
    "\n",
    "# object containing 512 samples of audio to be fed to the Polyphase Filterbank\n",
    "class analysisBuffer:\n",
    "    def __init__(self,bufferVal=np.zeros(512)):\n",
    "        assert (len(bufferVal)==512),\"Input not length 512!\"\n",
    "        self.bufferVal = bufferVal\n",
    "    \n",
    "    # by definition, 32 samples are pushed into the buffer at a time\n",
    "    def pushBlock(self,sampleBlock):\n",
    "        assert (len(sampleBlock)==32),\"Sample block length not 32!\"\n",
    "        self.bufferVal[32:] = self.bufferVal[:-32]\n",
    "        self.bufferVal[0:32] = sampleBlock\n",
    "\n",
    "# analysis filterbank for MPEG Audio subband coding\n",
    "def polyphaseFilterbank(x):\n",
    "    # x - analysisBuffer object\n",
    "    assert (type(x)==analysisBuffer),\"Input not an analysisBuffer object!\"\n",
    "    \n",
    "    C = np.load('data/mpeg_analysis_window.npy') # analysis window defined by MPEG\n",
    "    assert (len(C)==512),\"Window length not 512!\"\n",
    "    \n",
    "    M = calcAnalysisMatrixCoeff()\n",
    "    \n",
    "    subbandSamples = np.zeros(32)\n",
    "    for n in range(32):\n",
    "        for k in range(63):\n",
    "            for m in range(7):\n",
    "                subbandSamples[n] = subbandSamples[n] + (M[n,k] * (C[k+64*m]*x.bufferVal[k+64*m]))\n",
    "        \n",
    "    return subbandSamples\n",
    "\n",
    "# part of the Polyphase Filterbank\n",
    "def calcAnalysisMatrixCoeff():\n",
    "    M = np.zeros([32,64])\n",
    "    for n in range(32):\n",
    "        for k in range(64):\n",
    "            M[n,k] = np.cos((2*n+1)*(k-16)*np.pi/64)\n",
    "            \n",
    "    return M\n",
    "     "
   ]
  },
  {
   "cell_type": "markdown",
   "metadata": {},
   "source": [
    "Simple test"
   ]
  },
  {
   "cell_type": "code",
   "execution_count": 109,
   "metadata": {},
   "outputs": [
    {
     "name": "stdout",
     "output_type": "stream",
     "text": [
      "[ 0.41517266  0.07325605  0.02896892  0.01636955  0.0013639   0.04229693\n",
      "  0.01698661 -0.02307685 -0.01110122  0.02273688  0.08947885 -0.0508295\n",
      "  0.01903892  0.00909591  0.00755405  0.07798447  0.12975603 -0.00669258\n",
      " -0.09024754  0.02077363 -0.0384763  -0.00222894  0.02942877 -0.04226476\n",
      "  0.03667806  0.02191893 -0.0312032   0.0584115   0.02024723  0.03609385\n",
      " -0.00661935  0.01744876]\n"
     ]
    }
   ],
   "source": [
    "# test pushBlock in Buffer and Filterbank just with random values\n",
    "myBuffer = analysisBuffer(np.random.rand(512))\n",
    "myBuffer.pushBlock(np.random.rand(32))\n",
    "\n",
    "myst = polyphaseFilterbank(myBuffer)\n",
    "print(myst)"
   ]
  },
  {
   "cell_type": "code",
   "execution_count": 72,
   "metadata": {},
   "outputs": [
    {
     "name": "stdout",
     "output_type": "stream",
     "text": [
      "[ 1.21202680e-02 -1.44946970e-02 -9.28328898e-03  1.63199509e-02\n",
      "  6.09067813e-03 -1.75211143e-02 -2.66505598e-03  1.80719505e-02\n",
      " -8.64472328e-04 -1.79703665e-02  4.35845671e-03  1.74879278e-02\n",
      "  9.78679207e-01 -1.50207993e-02  1.05408444e-02  1.31735898e-02\n",
      " -1.32306672e-02 -1.06348660e-02  1.53482354e-02  7.64692128e-03\n",
      " -1.68664303e-02 -4.34626024e-03  1.77265416e-02  8.73449724e-04\n",
      " -1.79064471e-02  2.63321283e-03  1.73947968e-02 -6.04335340e-03\n",
      " -1.62124859e-02  9.22353398e-03  1.44085065e-02 -1.20454323e-02]\n"
     ]
    }
   ],
   "source": [
    "# test with a sine tone at 10kHz, assuming roughly 48kHz sampling rate\n",
    "# --> maximum value in filterbank output seen in 13th entry\n",
    "\n",
    "myBuffer = analysisBuffer(np.sin(2*np.pi*10000*np.linspace(0,0.01,512)))\n",
    "myst = polyphaseFilterbank(myBuffer)\n",
    "print(myst)"
   ]
  },
  {
   "cell_type": "markdown",
   "metadata": {},
   "source": [
    "# Loading audio files"
   ]
  },
  {
   "cell_type": "code",
   "execution_count": 496,
   "metadata": {},
   "outputs": [],
   "source": [
    "# this works\n",
    "\n",
    "import scipy.io.wavfile as wav\n",
    "filename = 'data/audio/watermelonman_audio.wav'\n",
    "sampleRate, x=wav.read(filename)\n",
    "\n",
    "xLeft  = x[:,0]\n",
    "xRight = x[:,1]\n",
    "\n",
    "\n",
    "# import routine which outputs bytes objects\n",
    "\n",
    "#import wave\n",
    "#chunk = 1024  \n",
    "#open a wav format music\n",
    "#filename = 'data/audio/lull_audio.wav'\n",
    "#filename = 'data/audio/cometogether_audio.wav'\n",
    "#f = wave.open(filename)\n",
    "\n",
    "#f.getnchannels()\n",
    "#f.getframerate()\n",
    "#f.getnframes()\n",
    "#f.getparams()\n",
    "#f.readframes(1)\n",
    "\n",
    "#f.close()\n",
    "\n",
    "# more sophisticated audio library, not installed\n",
    "\n",
    "#import librosa\n",
    "#x, sample_rate = librosa.load('data/audio/lull_audio.wav', mono=True)\n"
   ]
  },
  {
   "cell_type": "markdown",
   "metadata": {},
   "source": [
    "Routine that takes blocks of audio and feeds it to the buffer, then groups subband samples into frames"
   ]
  },
  {
   "cell_type": "code",
   "execution_count": 497,
   "metadata": {},
   "outputs": [],
   "source": [
    "# takes raw audio signal, runs it into the analysisBuffer and calculated the filterbank outputs subbandSamples\n",
    "def feedCoder(x):\n",
    "    # x - mono or stereo PCM audio signal as array\n",
    "    \n",
    "    nSamples,stereo=x.shape\n",
    "    assert (stereo==1 or stereo==2),\"Input not mono or stereo!\"\n",
    "    \n",
    "    if stereo==2:\n",
    "        x  = x[:,0] # eventually will need to be xLeft/xRight and will need a whole routine to handle both channels\n",
    "        #xRight = x[:,1]\n",
    "    \n",
    "    # zero-pad to divisible of 32 samples\n",
    "    modulo32=nSamples%32\n",
    "    nPadding = 32-modulo32\n",
    "    xHold = x\n",
    "    x = np.zeros([nSamples])\n",
    "    x[0:nSamples] = xHold\n",
    "    nSamples = nSamples+nPadding\n",
    "    nBlocks = int(nSamples/32)\n",
    "    assert (nSamples%32==0),\"Zero-padding mistake!\"\n",
    "        \n",
    "    xBuffer = analysisBuffer()\n",
    "    iBlock = 0\n",
    "    iSample = 0\n",
    "    subbandSamples = []\n",
    "    \n",
    "    while iSample+32<=3072: # eventually needs to be nSamples\n",
    "        xBuffer.pushBlock(x[iSample:iSample+32])\n",
    "        subbandSamples.append(subbandSample(polyphaseFilterbank(xBuffer)))\n",
    "        iBlock  += 1\n",
    "        iSample += 32\n",
    "    \n",
    "    return subbandSamples\n"
   ]
  },
  {
   "cell_type": "code",
   "execution_count": 498,
   "metadata": {},
   "outputs": [
    {
     "name": "stdout",
     "output_type": "stream",
     "text": [
      "96\n",
      "[ 0.85522403  0.02417341 -0.03738699 -0.00922402 -0.05485023 -0.05908671\n",
      "  0.00326628 -0.07126483 -0.0895014   0.04945978 -0.00687234  0.00939957\n",
      " -0.0638988   0.03738847 -0.03505253 -0.03165801  0.05800317  0.10966342\n",
      "  0.04039374 -0.00807556 -0.05157564  0.02511318  0.12394312  0.08237063\n",
      "  0.04577501  0.26178462 -0.03125715 -0.61258814  0.699416    0.17292376\n",
      " -0.32314911 -0.13994109]\n",
      "<class 'numpy.ndarray'>\n",
      "<class 'numpy.float64'>\n"
     ]
    }
   ],
   "source": [
    "# simple test\n",
    "\n",
    "subbandSamples = feedCoder(x)\n",
    "\n",
    "# show that output of feedCoder is a numerical array\n",
    "print(len(subbandSamples))\n",
    "print(subbandSamples[0].sample)\n",
    "print(type(subbandSamples[0].sample))\n",
    "print(type(subbandSamples[0].sample[0]))"
   ]
  },
  {
   "cell_type": "code",
   "execution_count": 499,
   "metadata": {},
   "outputs": [],
   "source": [
    "# object containing a single output of the polyphase filterbank, i.e. one sample of each of the 32 subband filters. \n",
    "# this is equicalent to 32 samples of audio input\n",
    "class subbandSample:\n",
    "    def __init__(self,sample=np.zeros(32)):\n",
    "        assert (len(sample)==32),\"Input length not 32!\"\n",
    "        self.sample = sample\n",
    "\n",
    "\n",
    "# object containing a frame of 12 or 36 subbandSample objects, must be initialized empty first\n",
    "class subbandFrame:\n",
    "    def __init__(self,layer=1):\n",
    "        assert (layer==1 or layer==2 or layer==3),\"Encoding layer type not 1, 2 or 3!\"\n",
    "        self.layer=layer\n",
    "        if self.layer==1:\n",
    "            self.nSamples = 12\n",
    "        elif self.layer ==2 or self.layer==3:\n",
    "            self.nSamples = 36\n",
    "        \n",
    "        self.frame = np.zeros([32,self.nSamples])\n",
    "        \n",
    "    def pushFrame(self,subbandSamples):\n",
    "        assert (not not subbandSamples),\"No entries in subbandSamples list!\"\n",
    "        for i in range(self.nSamples):\n",
    "            self.frame[:,i]=(subbandSamples[i].sample)\n",
    "        subbandSamples = subbandSamples[self.nSamples:]   \n",
    "        return subbandSamples"
   ]
  },
  {
   "cell_type": "code",
   "execution_count": 501,
   "metadata": {},
   "outputs": [
    {
     "name": "stdout",
     "output_type": "stream",
     "text": [
      "(32, 12)\n"
     ]
    }
   ],
   "source": [
    "# simple test for subbandFrame object\n",
    "mySubFrame = subbandFrame(layer=1) # initialize\n",
    "subbandSamples = mySubFrame.pushFrame(subbandSamples) # need to return popped samples list\n",
    "#mySubFrame.pushFrame(subbandSamples[0:12])\n",
    "\n",
    "print(mySubFrame.frame.shape)"
   ]
  },
  {
   "cell_type": "markdown",
   "metadata": {},
   "source": [
    "# Implementation of Calculation of scale factors"
   ]
  },
  {
   "cell_type": "code",
   "execution_count": 502,
   "metadata": {},
   "outputs": [],
   "source": [
    "# compare max abs values of each subband frame to scalefactor table and deduct fitting scale factor\n",
    "def calcScaleFactors(subbandFrame):\n",
    "    if subbandFrame.layer == 1:\n",
    "        assert (subbandFrame.frame.shape==(32, 12)),\"Wrong subbandFrame array dimensions!\"\n",
    "        subbandMaxVals = np.amax(np.abs(subbandFrame.frame),axis=1)\n",
    "    else:\n",
    "        print(\"Error! Layer II and III coding not implemented yet\")\n",
    "        raise SystemExit(0)\n",
    "    \n",
    "    scaleFactorTable = np.load('data/mpeg_scale_factors.npy') # scale factors defined by MPEG\n",
    "    scaleFactorTable = np.flip(scaleFactorTable)\n",
    "    assert (len(scaleFactorTable)==64),\"Table length not 64!\"\n",
    "    \n",
    "    scaleFactor = np.zeros(32)\n",
    "    scaleFactorIndex = []\n",
    "    for iCompare in range(32):\n",
    "        scaleFactor[iCompare]=scaleFactorTable[np.argmax(scaleFactorTable>subbandMaxVals[iCompare])]\n",
    "        scaleFactorIndex.append(63-np.argmax(scaleFactorTable>subbandMaxVals[iCompare]))\n",
    "    \n",
    "    return scaleFactor, scaleFactorIndex\n",
    "\n",
    "# convert scale factor indices into binary representation for coding\n",
    "def codeScaleFactor(scaleFactorIndex):\n",
    "    assert (type(scaleFactorIndex[0]==int)),\"Input not integer value!\"\n",
    "    \n",
    "    codedScaleFactor = []\n",
    "    for iBand in range(len(scaleFactorIndex)):\n",
    "        codedScaleFactor.append(bin(scaleFactorIndex[iBand]))\n",
    "    \n",
    "    return codedScaleFactor"
   ]
  },
  {
   "cell_type": "code",
   "execution_count": 503,
   "metadata": {},
   "outputs": [
    {
     "name": "stdout",
     "output_type": "stream",
     "text": [
      "(array([1.        , 0.125     , 0.09921257, 0.125     , 0.125     ,\n",
      "       0.125     , 0.125     , 0.125     , 0.09921257, 0.09921257,\n",
      "       0.125     , 0.125     , 0.15749013, 0.125     , 0.15749013,\n",
      "       0.09921257, 0.15749013, 0.125     , 0.19842513, 0.125     ,\n",
      "       0.19842513, 0.19842513, 0.25      , 0.19842513, 0.25      ,\n",
      "       0.5       , 0.5       , 0.62996052, 1.25992105, 1.        ,\n",
      "       0.62996052, 0.79370053]), [3, 12, 13, 12, 12, 12, 12, 12, 13, 13, 12, 12, 11, 12, 11, 13, 11, 12, 10, 12, 10, 10, 9, 10, 9, 6, 6, 5, 2, 3, 5, 4])\n"
     ]
    },
    {
     "data": {
      "text/plain": [
       "['0b11',\n",
       " '0b1100',\n",
       " '0b1101',\n",
       " '0b1100',\n",
       " '0b1100',\n",
       " '0b1100',\n",
       " '0b1100',\n",
       " '0b1100',\n",
       " '0b1101',\n",
       " '0b1101',\n",
       " '0b1100',\n",
       " '0b1100',\n",
       " '0b1011',\n",
       " '0b1100',\n",
       " '0b1011',\n",
       " '0b1101',\n",
       " '0b1011',\n",
       " '0b1100',\n",
       " '0b1010',\n",
       " '0b1100',\n",
       " '0b1010',\n",
       " '0b1010',\n",
       " '0b1001',\n",
       " '0b1010',\n",
       " '0b1001',\n",
       " '0b110',\n",
       " '0b110',\n",
       " '0b101',\n",
       " '0b10',\n",
       " '0b11',\n",
       " '0b101',\n",
       " '0b100']"
      ]
     },
     "execution_count": 503,
     "metadata": {},
     "output_type": "execute_result"
    }
   ],
   "source": [
    "# simple test\n",
    "print(calcScaleFactors(mySubFrame))\n",
    "\n",
    "# simple test to show binary representation os scalefactors\n",
    "scaleFactor, scaleFactorIndex = calcScaleFactors(mySubFrame)\n",
    "\n",
    "codeScaleFactor(scaleFactorIndex)"
   ]
  },
  {
   "cell_type": "markdown",
   "metadata": {},
   "source": [
    "# Bit allocation"
   ]
  },
  {
   "cell_type": "code",
   "execution_count": 504,
   "metadata": {},
   "outputs": [],
   "source": [
    "def assignBits(subbandFrame):\n",
    "    \n",
    "    # for now it's just a fixed 8 bits per subband sample,  allocation routine will be included later\n",
    "    nBits = 8*np.ones(32)\n",
    "    \n",
    "    return nBits"
   ]
  },
  {
   "cell_type": "code",
   "execution_count": 505,
   "metadata": {},
   "outputs": [],
   "source": [
    "nBitsSubband = assignBits(mySubFrame)"
   ]
  },
  {
   "cell_type": "markdown",
   "metadata": {},
   "source": [
    "Quantizer"
   ]
  },
  {
   "cell_type": "code",
   "execution_count": 510,
   "metadata": {},
   "outputs": [],
   "source": [
    "# multiply subband frame by scalefactors and quantize them with the number of bits\n",
    "def quantizeSubbandFrame(subbandFrame,scaleFactor,nBitsSubband):\n",
    "    \n",
    "    transmitScalefactor = []\n",
    "    transmitSubband = []\n",
    "    transmitNSubbands = []\n",
    "    \n",
    "    for iBand in range(32):\n",
    "        if nBitsSubband[iBand]>0:\n",
    "            transmitNSubbands.append(iBand)\n",
    "            transmitScalefactor.append(scaleFactor[iBand])\n",
    "            \n",
    "            normalizedBand = subbandFrame.frame[iBand,:]*scaleFactor[iBand]\n",
    "            quantizedBand = subbandQuantizer(normalizedBand,nBitsSubband[iBand])\n",
    "            \n",
    "            transmitSubband.append(codeSubband(quantizedBand,nBitsSubband[iBand]))\n",
    "            \n",
    "            return transmitSubband\n",
    "\n",
    "\n",
    "# Quantizer defined by MPEG\n",
    "def subbandQuantizer(normalizedBand,nBits):\n",
    "    \n",
    "    nSteps = int(2**nBits-1)\n",
    "    indBits = int(nBits-2)\n",
    "    print(type(indBits))\n",
    "    nSteps = np.load('data/mpeg_qc_layer_i_nSteps.npy')\n",
    "    A = np.load('data/mpeg_qc_layer_i_A.npy')\n",
    "    B = np.load('data/mpeg_qc_layer_i_B.npy')\n",
    "    \n",
    "    quantizedBand = A[indBits]*normalizedBand+B[indBits]\n",
    "\n",
    "    return quantizedBand\n",
    "\n",
    "# convert scale factor indices into binary representation for coding\n",
    "def codeSubband(quantizedBand,nBits):\n",
    "    assert (type(scaleFactorIndex[0]==int)),\"Input not integer value!\"\n",
    "    \n",
    "    codedSubband = []\n",
    "    for iSample in range(len(quantizedBand)):\n",
    "        print(quantizedBand[iSample])\n",
    "        codedVal    = bin(quantizedBand[iSample]) # this should be an integer number but isn't???\n",
    "        codedVal    = codedVal[0:nBits]\n",
    "        codedVal[0] = ~codedVal[0]\n",
    "        codedSubband.append()\n",
    "    \n",
    "    return codedScaleFactor"
   ]
  },
  {
   "cell_type": "code",
   "execution_count": 511,
   "metadata": {},
   "outputs": [
    {
     "name": "stdout",
     "output_type": "stream",
     "text": [
      "<class 'int'>\n",
      "0.8796408598533273\n"
     ]
    },
    {
     "ename": "TypeError",
     "evalue": "'numpy.float64' object cannot be interpreted as an integer",
     "output_type": "error",
     "traceback": [
      "\u001b[1;31m---------------------------------------------------------------------------\u001b[0m",
      "\u001b[1;31mTypeError\u001b[0m                                 Traceback (most recent call last)",
      "\u001b[1;32m<ipython-input-511-a6944b2fadb7>\u001b[0m in \u001b[0;36m<module>\u001b[1;34m\u001b[0m\n\u001b[1;32m----> 1\u001b[1;33m \u001b[0mquantizeSubbandFrame\u001b[0m\u001b[1;33m(\u001b[0m\u001b[0mmySubFrame\u001b[0m\u001b[1;33m,\u001b[0m\u001b[0mscaleFactor\u001b[0m\u001b[1;33m,\u001b[0m\u001b[0mnBitsSubband\u001b[0m\u001b[1;33m)\u001b[0m\u001b[1;33m\u001b[0m\u001b[0m\n\u001b[0m",
      "\u001b[1;32m<ipython-input-510-ba04f5fa86cc>\u001b[0m in \u001b[0;36mquantizeSubbandFrame\u001b[1;34m(subbandFrame, scaleFactor, nBitsSubband)\u001b[0m\n\u001b[0;32m     14\u001b[0m             \u001b[0mquantizedBand\u001b[0m \u001b[1;33m=\u001b[0m \u001b[0msubbandQuantizer\u001b[0m\u001b[1;33m(\u001b[0m\u001b[0mnormalizedBand\u001b[0m\u001b[1;33m,\u001b[0m\u001b[0mnBitsSubband\u001b[0m\u001b[1;33m[\u001b[0m\u001b[0miBand\u001b[0m\u001b[1;33m]\u001b[0m\u001b[1;33m)\u001b[0m\u001b[1;33m\u001b[0m\u001b[0m\n\u001b[0;32m     15\u001b[0m \u001b[1;33m\u001b[0m\u001b[0m\n\u001b[1;32m---> 16\u001b[1;33m             \u001b[0mtransmitSubband\u001b[0m\u001b[1;33m.\u001b[0m\u001b[0mappend\u001b[0m\u001b[1;33m(\u001b[0m\u001b[0mcodeSubband\u001b[0m\u001b[1;33m(\u001b[0m\u001b[0mquantizedBand\u001b[0m\u001b[1;33m,\u001b[0m\u001b[0mnBitsSubband\u001b[0m\u001b[1;33m[\u001b[0m\u001b[0miBand\u001b[0m\u001b[1;33m]\u001b[0m\u001b[1;33m)\u001b[0m\u001b[1;33m)\u001b[0m\u001b[1;33m\u001b[0m\u001b[0m\n\u001b[0m\u001b[0;32m     17\u001b[0m \u001b[1;33m\u001b[0m\u001b[0m\n\u001b[0;32m     18\u001b[0m             \u001b[1;32mreturn\u001b[0m \u001b[0mtransmitSubband\u001b[0m\u001b[1;33m\u001b[0m\u001b[0m\n",
      "\u001b[1;32m<ipython-input-510-ba04f5fa86cc>\u001b[0m in \u001b[0;36mcodeSubband\u001b[1;34m(quantizedBand, nBits)\u001b[0m\n\u001b[0;32m     40\u001b[0m     \u001b[1;32mfor\u001b[0m \u001b[0miSample\u001b[0m \u001b[1;32min\u001b[0m \u001b[0mrange\u001b[0m\u001b[1;33m(\u001b[0m\u001b[0mlen\u001b[0m\u001b[1;33m(\u001b[0m\u001b[0mquantizedBand\u001b[0m\u001b[1;33m)\u001b[0m\u001b[1;33m)\u001b[0m\u001b[1;33m:\u001b[0m\u001b[1;33m\u001b[0m\u001b[0m\n\u001b[0;32m     41\u001b[0m         \u001b[0mprint\u001b[0m\u001b[1;33m(\u001b[0m\u001b[0mquantizedBand\u001b[0m\u001b[1;33m[\u001b[0m\u001b[0miSample\u001b[0m\u001b[1;33m]\u001b[0m\u001b[1;33m)\u001b[0m\u001b[1;33m\u001b[0m\u001b[0m\n\u001b[1;32m---> 42\u001b[1;33m         \u001b[0mcodedVal\u001b[0m    \u001b[1;33m=\u001b[0m \u001b[0mbin\u001b[0m\u001b[1;33m(\u001b[0m\u001b[0mquantizedBand\u001b[0m\u001b[1;33m[\u001b[0m\u001b[0miSample\u001b[0m\u001b[1;33m]\u001b[0m\u001b[1;33m)\u001b[0m \u001b[1;31m# this should be an integer number but isn't???\u001b[0m\u001b[1;33m\u001b[0m\u001b[0m\n\u001b[0m\u001b[0;32m     43\u001b[0m         \u001b[0mcodedVal\u001b[0m    \u001b[1;33m=\u001b[0m \u001b[0mcodedVal\u001b[0m\u001b[1;33m[\u001b[0m\u001b[1;36m0\u001b[0m\u001b[1;33m:\u001b[0m\u001b[0mnBits\u001b[0m\u001b[1;33m]\u001b[0m\u001b[1;33m\u001b[0m\u001b[0m\n\u001b[0;32m     44\u001b[0m         \u001b[0mcodedVal\u001b[0m\u001b[1;33m[\u001b[0m\u001b[1;36m0\u001b[0m\u001b[1;33m]\u001b[0m \u001b[1;33m=\u001b[0m \u001b[1;33m~\u001b[0m\u001b[0mcodedVal\u001b[0m\u001b[1;33m[\u001b[0m\u001b[1;36m0\u001b[0m\u001b[1;33m]\u001b[0m\u001b[1;33m\u001b[0m\u001b[0m\n",
      "\u001b[1;31mTypeError\u001b[0m: 'numpy.float64' object cannot be interpreted as an integer"
     ]
    }
   ],
   "source": [
    "quantizeSubbandFrame(mySubFrame,scaleFactor,nBitsSubband)"
   ]
  },
  {
   "cell_type": "markdown",
   "metadata": {},
   "source": [
    "# Miscellaneous"
   ]
  },
  {
   "cell_type": "markdown",
   "metadata": {},
   "source": [
    "Convert right-left stereo array to mid-side coded array"
   ]
  },
  {
   "cell_type": "code",
   "execution_count": 360,
   "metadata": {},
   "outputs": [],
   "source": [
    "def convRLtoMS(RLsig):\n",
    "    \n",
    "    nSamples,stereo=RLsig.shape\n",
    "    assert stereo==2,\"Not a stereo file!\"\n",
    "    MSsig = np.zeros([nSamples,2])\n",
    "    \n",
    "    MSsig[:,0] = (RLsig[:,0] + RLsig[:,1])/np.sqrt(2)\n",
    "    MSsig[:,1] = (RLsig[:,0] - RLsig[:,1])/np.sqrt(2)\n",
    "    \n",
    "    return MSsig"
   ]
  },
  {
   "cell_type": "code",
   "execution_count": 361,
   "metadata": {},
   "outputs": [
    {
     "name": "stdout",
     "output_type": "stream",
     "text": [
      "[2 8]\n",
      "[ 7.07106781 -4.24264069]\n"
     ]
    }
   ],
   "source": [
    "# simple test\n",
    "\n",
    "msx = convRLtoMS(x)\n",
    "\n",
    "print(x[1,:])\n",
    "print(msx[1,:])"
   ]
  }
 ],
 "metadata": {
  "kernelspec": {
   "display_name": "Python 3",
   "language": "python",
   "name": "python3"
  },
  "language_info": {
   "codemirror_mode": {
    "name": "ipython",
    "version": 3
   },
   "file_extension": ".py",
   "mimetype": "text/x-python",
   "name": "python",
   "nbconvert_exporter": "python",
   "pygments_lexer": "ipython3",
   "version": "3.6.5"
  }
 },
 "nbformat": 4,
 "nbformat_minor": 4
}
