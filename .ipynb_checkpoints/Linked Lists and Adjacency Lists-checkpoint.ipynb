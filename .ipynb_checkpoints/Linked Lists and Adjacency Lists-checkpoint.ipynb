{
 "cells": [
  {
   "cell_type": "code",
   "execution_count": 206,
   "metadata": {},
   "outputs": [],
   "source": [
    "class Edge:\n",
    "    def __init__(self, startNode=None, endNode=None):\n",
    "        self.startNode = startNode\n",
    "        self.endNode   = endNode\n",
    "\n",
    "class AdjacencyList:\n",
    "    def __init__(self, nNodes=None):\n",
    "        self.AdjList = [] # [None] * nNodes\n",
    "        for iNode in range(nNodes):\n",
    "            self.AdjList.append(SLinkedList())\n",
    "\n",
    "    def readEdgeArray(self,edgeArray):\n",
    "        nEdges = len(edgeArray)\n",
    "        for iEdge in range(nEdges):\n",
    "            self.AdjList[edgeArray[iEdge].startNode].AtEnd(edgeArray[iEdge].endNode)\n",
    "            self.AdjList[edgeArray[iEdge].endNode].AtEnd(edgeArray[iEdge].startNode)\n",
    "        \n",
    "#AdjacencyList=[]\n",
    "#for iV in range(V):\n",
    "#    AdjacencyList.append([iV])\n",
    "#for iE in range(E):\n",
    "#    AdjacencyList[edges[iE][0]].append(edges[iE][1])\n",
    "#    AdjacencyList[edges[iE][1]].append(edges[iE][0])\n",
    "    \n",
    "\n",
    "class Node:\n",
    "    def __init__(self, dataval=None):\n",
    "        self.dataval = dataval\n",
    "        self.nextval = None\n",
    "        \n",
    "    def hasval(self, value):\n",
    "        \"method to compare the value with the node data\"\n",
    "        if self.dataval == value:\n",
    "            return True\n",
    "        else:\n",
    "            return False\n",
    "\n",
    "class SLinkedList:\n",
    "    def __init__(self):\n",
    "        self.headval = None\n",
    "        \n",
    "# Functions to add new nodes\n",
    "    def AtBegining(self,newdata):\n",
    "        NewNode = Node(newdata)\n",
    "        # Update the new nodes next val to existing node\n",
    "        NewNode.nextval = self.headval\n",
    "        self.headval = NewNode\n",
    "\n",
    "    def AtEnd(self, newdata):\n",
    "        NewNode = Node(newdata)\n",
    "        if self.headval is None:\n",
    "            self.headval = NewNode\n",
    "            return\n",
    "        laste = self.headval\n",
    "        while(laste.nextval):\n",
    "            laste = laste.nextval\n",
    "        laste.nextval=NewNode\n",
    "\n",
    "    def Inbetween(self,middle_node,newdata):\n",
    "        if middle_node is None:\n",
    "            print(\"The mentioned node is absent\")\n",
    "            return\n",
    "\n",
    "        NewNode = Node(newdata)\n",
    "        NewNode.nextval = middle_node.nextval\n",
    "        middle_node.nextval = NewNode\n",
    "\n",
    "# Function to remove node\n",
    "    def RemoveNode(self, Removekey):\n",
    "\n",
    "        HeadVal = self.headval\n",
    "\n",
    "        if (HeadVal is not None):\n",
    "            if (HeadVal.dataval == Removekey):\n",
    "                self.headval = HeadVal.nextval\n",
    "                HeadVal = None\n",
    "                return\n",
    "\n",
    "        while (HeadVal is not None):\n",
    "            if HeadVal.dataval == Removekey:\n",
    "                break\n",
    "            prev = HeadVal\n",
    "            HeadVal = HeadVal.nextval\n",
    "\n",
    "        if (HeadVal == None):\n",
    "            return\n",
    "\n",
    "        prev.nextval = HeadVal.nextval\n",
    "\n",
    "        HeadVal = None\n",
    "\n",
    "    def unordered_search (self, value):\n",
    "        \"search the linked list for the node that has this value\"\n",
    "        \n",
    "        # define current_node\n",
    "        currentnode = self.headval\n",
    "        \n",
    "        while currentnode is not None:\n",
    "            if currentnode.hasval(value):\n",
    "                return True\n",
    "                \n",
    "            # jump to the linked node\n",
    "            currentnode = currentnode.nextval\n",
    "        \n",
    "        return False\n",
    "        \n",
    "# Print the linked list\n",
    "    def listprint(self):\n",
    "        printval = self.headval\n",
    "        while printval is not None:\n",
    "            print (printval.dataval)\n",
    "            printval = printval.nextval\n",
    "\n"
   ]
  },
  {
   "cell_type": "markdown",
   "metadata": {},
   "source": [
    "My tests"
   ]
  },
  {
   "cell_type": "code",
   "execution_count": 207,
   "metadata": {},
   "outputs": [
    {
     "name": "stdout",
     "output_type": "stream",
     "text": [
      "10\n",
      "1\n",
      "\n",
      "\n",
      "0\n",
      "3\n",
      "2\n"
     ]
    }
   ],
   "source": [
    "myEdge=Edge(10,1)\n",
    "\n",
    "print(myEdge.startNode)\n",
    "print(myEdge.endNode)\n",
    "print('\\n')\n",
    "\n",
    "myEdgeArray=[]\n",
    "\n",
    "myEdgeArray.append(Edge(0,1))\n",
    "myEdgeArray.append(Edge(1,3))\n",
    "myEdgeArray.append(Edge(2,3))\n",
    "myEdgeArray.append(Edge(5,1))\n",
    "\n",
    "print(myEdgeArray[0].startNode)\n",
    "print(myEdgeArray[1].endNode)\n",
    "print(myEdgeArray[2].startNode)"
   ]
  },
  {
   "cell_type": "markdown",
   "metadata": {},
   "source": [
    "Build Adjacency List from Edge Array"
   ]
  },
  {
   "cell_type": "code",
   "execution_count": 208,
   "metadata": {},
   "outputs": [
    {
     "name": "stdout",
     "output_type": "stream",
     "text": [
      "1\n",
      "\n",
      "\n",
      "0\n",
      "3\n",
      "5\n",
      "\n",
      "\n",
      "3\n",
      "\n",
      "\n",
      "1\n",
      "2\n",
      "\n",
      "\n"
     ]
    }
   ],
   "source": [
    "myAdjList = AdjacencyList(6)\n",
    "myAdjList.readEdgeArray(myEdgeArray)\n",
    "\n",
    "myAdjList.AdjList[0].listprint()\n",
    "print('\\n')\n",
    "myAdjList.AdjList[1].listprint()\n",
    "print('\\n')\n",
    "myAdjList.AdjList[2].listprint()\n",
    "print('\\n')\n",
    "myAdjList.AdjList[3].listprint()\n",
    "print('\\n')"
   ]
  },
  {
   "cell_type": "markdown",
   "metadata": {},
   "source": [
    "This is equivalent to myAdjList.AdjList[1].listprint()"
   ]
  },
  {
   "cell_type": "code",
   "execution_count": 209,
   "metadata": {},
   "outputs": [
    {
     "name": "stdout",
     "output_type": "stream",
     "text": [
      "0\n",
      "3\n",
      "5\n"
     ]
    }
   ],
   "source": [
    "print(myAdjList.AdjList[1].headval.dataval)\n",
    "print(myAdjList.AdjList[1].headval.nextval.dataval)\n",
    "print(myAdjList.AdjList[1].headval.nextval.nextval.dataval)"
   ]
  },
  {
   "cell_type": "markdown",
   "metadata": {},
   "source": [
    "CodeJude implementation of an adjacency list test"
   ]
  },
  {
   "cell_type": "code",
   "execution_count": 210,
   "metadata": {},
   "outputs": [],
   "source": [
    "V=4\n",
    "E=3\n",
    "myEdgeArray=[]\n",
    "myEdgeArray.append(Edge(0,1))\n",
    "myEdgeArray.append(Edge(1,2))\n",
    "myEdgeArray.append(Edge(2,3))\n",
    "nQ1=2\n",
    "queryEdgeArray=[]\n",
    "queryEdgeArray.append(Edge(0,3))\n",
    "queryEdgeArray.append(Edge(1,0))\n",
    "nQ2=1\n",
    "queries2=[]\n",
    "queries2.append(2)\n",
    "\n"
   ]
  },
  {
   "cell_type": "code",
   "execution_count": 211,
   "metadata": {},
   "outputs": [
    {
     "name": "stdout",
     "output_type": "stream",
     "text": [
      "NO\n",
      "YES\n",
      "1\n",
      "3\n"
     ]
    }
   ],
   "source": [
    "myAdjList = AdjacencyList(V)\n",
    "myAdjList.readEdgeArray(myEdgeArray)\n",
    "\n",
    "for iQ1 in range(nQ1):\n",
    "    if myAdjList.AdjList[queryEdgeArray[iQ1].startNode].unordered_search(queryEdgeArray[iQ1].endNode):\n",
    "        print('YES')\n",
    "    else:\n",
    "        print('NO')\n",
    "    \n",
    "for iQ2 in range(nQ2):\n",
    "    myAdjList.AdjList[queries2[iQ2]].listprint()"
   ]
  },
  {
   "cell_type": "markdown",
   "metadata": {},
   "source": [
    "My first test of a linked list"
   ]
  },
  {
   "cell_type": "code",
   "execution_count": 128,
   "metadata": {},
   "outputs": [
    {
     "name": "stdout",
     "output_type": "stream",
     "text": [
      "2\n",
      "2\n",
      "3\n"
     ]
    }
   ],
   "source": [
    "myList = SLinkedList()\n",
    "myList.headval = Node(2)\n",
    "someNode = Node(2)\n",
    "someOtherNode = Node(3)\n",
    "\n",
    "myList.headval.nextval=someNode\n",
    "someNode.nextval = someOtherNode\n",
    "\n",
    "myList.listprint()"
   ]
  },
  {
   "cell_type": "markdown",
   "metadata": {},
   "source": [
    "First simple test"
   ]
  },
  {
   "cell_type": "code",
   "execution_count": 153,
   "metadata": {},
   "outputs": [
    {
     "name": "stdout",
     "output_type": "stream",
     "text": [
      "Sun\n",
      "Mon\n",
      "Tue\n",
      "Wed\n"
     ]
    }
   ],
   "source": [
    "list = SLinkedList()\n",
    "list.headval = Node(\"Mon\")\n",
    "e2 = Node(\"Tue\")\n",
    "e3 = Node(\"Wed\")\n",
    "\n",
    "list.headval.nextval = e2\n",
    "e2.nextval = e3\n",
    "\n",
    "list.AtBegining(\"Sun\")\n",
    "\n",
    "list.listprint()"
   ]
  },
  {
   "cell_type": "code",
   "execution_count": null,
   "metadata": {},
   "outputs": [],
   "source": []
  },
  {
   "cell_type": "markdown",
   "metadata": {},
   "source": [
    "Test inserting at beginning"
   ]
  },
  {
   "cell_type": "code",
   "execution_count": 24,
   "metadata": {},
   "outputs": [
    {
     "name": "stdout",
     "output_type": "stream",
     "text": [
      "Sun\n",
      "Mon\n",
      "Tue\n",
      "Wed\n"
     ]
    }
   ],
   "source": [
    "list = SLinkedList()\n",
    "list.headval = Node(\"Mon\")\n",
    "e2 = Node(\"Tue\")\n",
    "e3 = Node(\"Wed\")\n",
    "\n",
    "list.headval.nextval = e2\n",
    "e2.nextval = e3\n",
    "\n",
    "list.AtBegining(\"Sun\")\n",
    "\n",
    "list.listprint()"
   ]
  },
  {
   "cell_type": "markdown",
   "metadata": {},
   "source": [
    "Test Inserting at end"
   ]
  },
  {
   "cell_type": "code",
   "execution_count": 25,
   "metadata": {},
   "outputs": [
    {
     "name": "stdout",
     "output_type": "stream",
     "text": [
      "Mon\n",
      "Tue\n",
      "Wed\n",
      "Thu\n"
     ]
    }
   ],
   "source": [
    "list = SLinkedList()\n",
    "list.headval = Node(\"Mon\")\n",
    "e2 = Node(\"Tue\")\n",
    "e3 = Node(\"Wed\")\n",
    "\n",
    "list.headval.nextval = e2\n",
    "e2.nextval = e3\n",
    "\n",
    "list.AtEnd(\"Thu\")\n",
    "\n",
    "list.listprint()"
   ]
  },
  {
   "cell_type": "markdown",
   "metadata": {},
   "source": [
    "Test inserting in between two nodes"
   ]
  },
  {
   "cell_type": "code",
   "execution_count": 26,
   "metadata": {},
   "outputs": [
    {
     "name": "stdout",
     "output_type": "stream",
     "text": [
      "Mon\n",
      "Tue\n",
      "Fri\n",
      "Thu\n"
     ]
    }
   ],
   "source": [
    "list = SLinkedList()\n",
    "list.headval = Node(\"Mon\")\n",
    "e2 = Node(\"Tue\")\n",
    "e3 = Node(\"Thu\")\n",
    "\n",
    "list.headval.nextval = e2\n",
    "e2.nextval = e3\n",
    "\n",
    "list.Inbetween(list.headval.nextval,\"Fri\")\n",
    "\n",
    "list.listprint()"
   ]
  },
  {
   "cell_type": "markdown",
   "metadata": {},
   "source": [
    "Test removing from linked list"
   ]
  },
  {
   "cell_type": "code",
   "execution_count": 31,
   "metadata": {},
   "outputs": [
    {
     "name": "stdout",
     "output_type": "stream",
     "text": [
      "Thu\n",
      "Wed\n",
      "Mon\n"
     ]
    }
   ],
   "source": [
    "llist = SLinkedList()\n",
    "llist.AtBegining(\"Mon\")\n",
    "llist.AtBegining(\"Tue\")\n",
    "llist.AtBegining(\"Wed\")\n",
    "llist.AtBegining(\"Thu\")\n",
    "llist.RemoveNode(\"Tue\")\n",
    "llist.listprint()"
   ]
  },
  {
   "cell_type": "code",
   "execution_count": null,
   "metadata": {},
   "outputs": [],
   "source": []
  }
 ],
 "metadata": {
  "kernelspec": {
   "display_name": "Python 3",
   "language": "python",
   "name": "python3"
  },
  "language_info": {
   "codemirror_mode": {
    "name": "ipython",
    "version": 3
   },
   "file_extension": ".py",
   "mimetype": "text/x-python",
   "name": "python",
   "nbconvert_exporter": "python",
   "pygments_lexer": "ipython3",
   "version": "3.6.5"
  }
 },
 "nbformat": 4,
 "nbformat_minor": 4
}
